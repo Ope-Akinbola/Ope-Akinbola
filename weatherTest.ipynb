{
 "cells": [
  {
   "cell_type": "markdown",
   "metadata": {},
   "source": [
    "### Import all spark modules and libraries needed"
   ]
  },
  {
   "cell_type": "code",
   "execution_count": 1,
   "metadata": {},
   "outputs": [],
   "source": [
    "from pyspark.sql import SparkSession \n",
    "from pyspark.sql.types import *\n",
    "import pyspark.sql.functions as F\n",
    "from pyspark.sql.functions import col"
   ]
  },
  {
   "cell_type": "markdown",
   "metadata": {},
   "source": [
    "### create Spark session"
   ]
  },
  {
   "cell_type": "code",
   "execution_count": 2,
   "metadata": {},
   "outputs": [],
   "source": [
    "spark = SparkSession.builder.getOrCreate()"
   ]
  },
  {
   "cell_type": "markdown",
   "metadata": {},
   "source": [
    "### Import the csv files and creating a dataframe for the two datasets and infer schema"
   ]
  },
  {
   "cell_type": "code",
   "execution_count": 3,
   "metadata": {},
   "outputs": [],
   "source": [
    "file_location1 = \"weather.20160201.csv\"\n",
    "file_location2 = \"weather.20160301.csv\"\n",
    "file_type = \"csv\"\n",
    "\n",
    "# CSV options\n",
    "infer_schema = \"True\"\n",
    "first_row_is_header = \"True\"\n",
    "delimiter = \",\""
   ]
  },
  {
   "cell_type": "code",
   "execution_count": 4,
   "metadata": {},
   "outputs": [],
   "source": [
    "WeatherSchema = StructType([\n",
    "  StructField(\"ForecastSiteCode\",IntegerType()),\n",
    "  StructField(\"Time\",IntegerType()),\n",
    "  StructField(\"Date\",TimestampType()),\n",
    "  StructField(\"WindDirection\",IntegerType()),\n",
    "  StructField(\"WindSpeed\",IntegerType()),\n",
    "  StructField(\"WindGust\",IntegerType()),\n",
    "  StructField(\"Visibility\",IntegerType()),\n",
    "  StructField(\"Temperature\",DoubleType()),\n",
    "  StructField(\"Pressure\",IntegerType()),\n",
    "  StructField(\"WeatherCode\",IntegerType()),\n",
    "  StructField(\"SiteName\",StringType()),\n",
    "  StructField(\"Latitude\",DoubleType()),\n",
    "  StructField(\"Longitude\",DoubleType()),\n",
    "  StructField(\"Region\",StringType()),\n",
    "  StructField(\"COUNTRY\",StringType())\n",
    "])"
   ]
  },
  {
   "cell_type": "code",
   "execution_count": 5,
   "metadata": {},
   "outputs": [
    {
     "data": {
      "text/plain": [
       "93255"
      ]
     },
     "execution_count": 5,
     "metadata": {},
     "output_type": "execute_result"
    }
   ],
   "source": [
    "df1 = spark.read.format(file_type) \\\n",
    "  .schema(WeatherSchema)\\\n",
    "  .option(\"header\", first_row_is_header) \\\n",
    "  .option(\"mode\", \"failFast\") \\\n",
    "  .option(\"sep\", delimiter) \\\n",
    "  .load(file_location1)\n",
    "\n",
    "df1.count()"
   ]
  },
  {
   "cell_type": "code",
   "execution_count": 6,
   "metadata": {},
   "outputs": [
    {
     "data": {
      "text/plain": [
       "93255"
      ]
     },
     "execution_count": 6,
     "metadata": {},
     "output_type": "execute_result"
    }
   ],
   "source": [
    "df2 = spark.read.format(file_type) \\\n",
    "  .schema(WeatherSchema)\\\n",
    "  .option(\"header\", first_row_is_header) \\\n",
    "  .option(\"mode\", \"failFast\") \\\n",
    "  .option(\"sep\", delimiter) \\\n",
    "  .load(file_location2)\n",
    "\n",
    "df1.count()"
   ]
  },
  {
   "cell_type": "markdown",
   "metadata": {},
   "source": [
    "### Get the number of partitions in the dataset"
   ]
  },
  {
   "cell_type": "code",
   "execution_count": 7,
   "metadata": {
    "tags": []
   },
   "outputs": [
    {
     "name": "stdout",
     "output_type": "stream",
     "text": [
      "3 3\n"
     ]
    }
   ],
   "source": [
    "print(df1.rdd.getNumPartitions(), df1.rdd.getNumPartitions())"
   ]
  },
  {
   "cell_type": "markdown",
   "metadata": {},
   "source": [
    "### Combined the two datasets and write the file in parquet file for optimisation query"
   ]
  },
  {
   "cell_type": "code",
   "execution_count": null,
   "metadata": {},
   "outputs": [],
   "source": [
    "weatherDataCombined = df1.union(df2)\n",
    "weatherDataCombined.write.format(\"parquet\").mode(\"overwrite\").save(\"weatherDataCombined.parquet\")"
   ]
  },
  {
   "cell_type": "markdown",
   "metadata": {},
   "source": [
    "## create a temporary view table"
   ]
  },
  {
   "cell_type": "code",
   "execution_count": null,
   "metadata": {},
   "outputs": [],
   "source": [
    "weather = spark.read.parquet(\"weatherDataCombined.parquet\") \n",
    "weather.createOrReplaceTempView('weather')           \n",
    "spark.catalog.cacheTable(\"weather\")\n",
    "weather.count()"
   ]
  },
  {
   "cell_type": "markdown",
   "metadata": {},
   "source": [
    "## Querying the weatherData to solve the solutions"
   ]
  },
  {
   "cell_type": "code",
   "execution_count": 10,
   "metadata": {
    "tags": []
   },
   "outputs": [
    {
     "name": "stdout",
     "output_type": "stream",
     "text": [
      "+--------------------+-------------------+-----------+\n",
      "|              Region|               Date|Temperature|\n",
      "+--------------------+-------------------+-----------+\n",
      "|Highland & Eilean...|2016-03-17 00:00:00|       15.8|\n",
      "+--------------------+-------------------+-----------+\n",
      "\n"
     ]
    }
   ],
   "source": [
    "spark.sql(\"SELECT Region,Date,Temperature FROM weather WHERE Temperature IN (SELECT MAX(Temperature) FROM weather)\").show()"
   ]
  },
  {
   "cell_type": "code",
   "execution_count": 29,
   "metadata": {
    "tags": []
   },
   "outputs": [
    {
     "name": "stdout",
     "output_type": "stream",
     "text": [
      "+----------------+\n",
      "|max(Temperature)|\n",
      "+----------------+\n",
      "|            15.8|\n",
      "+----------------+\n",
      "\n"
     ]
    }
   ],
   "source": [
    "maxTemperature = weather.selectExpr(\"max(Temperature)\")\n",
    "maxTemperature.show()"
   ]
  },
  {
   "cell_type": "code",
   "execution_count": 30,
   "metadata": {
    "tags": []
   },
   "outputs": [
    {
     "name": "stdout",
     "output_type": "stream",
     "text": [
      "+-------------------+--------------------+-----------+\n",
      "|               Date|              Region|Temperature|\n",
      "+-------------------+--------------------+-----------+\n",
      "|2016-03-17 00:00:00|Highland & Eilean...|       15.8|\n",
      "+-------------------+--------------------+-----------+\n",
      "\n"
     ]
    }
   ],
   "source": [
    "Table1 = weather.select(\"Date\", \"Region\", \"Temperature\")\n",
    "Table1.filter(col(\"Temperature\") == 15.8).show()"
   ]
  },
  {
   "cell_type": "code",
   "execution_count": null,
   "metadata": {},
   "outputs": [],
   "source": []
  }
 ],
 "metadata": {
  "kernelspec": {
   "display_name": "Python 3",
   "language": "python",
   "name": "python3"
  },
  "language_info": {
   "codemirror_mode": {
    "name": "ipython",
    "version": 3
   },
   "file_extension": ".py",
   "mimetype": "text/x-python",
   "name": "python",
   "nbconvert_exporter": "python",
   "pygments_lexer": "ipython3",
   "version": "3.8.3"
  }
 },
 "nbformat": 4,
 "nbformat_minor": 4
}
